{
 "cells": [
  {
   "cell_type": "markdown",
   "metadata": {
    "pycharm": {
     "name": "#%% md\n"
    }
   },
   "source": [
    "# Scrapping pharmaceutical research journal abstracts"
   ]
  },
  {
   "cell_type": "code",
   "execution_count": 1,
   "metadata": {
    "pycharm": {
     "name": "#%%\n"
    }
   },
   "outputs": [
    {
     "ename": "ModuleNotFoundError",
     "evalue": "No module named 'pyquery'",
     "output_type": "error",
     "traceback": [
      "\u001b[0;31m---------------------------------------------------------------------------\u001b[0m",
      "\u001b[0;31mModuleNotFoundError\u001b[0m                       Traceback (most recent call last)",
      "\u001b[0;32m<ipython-input-1-95dafd4a3e56>\u001b[0m in \u001b[0;36m<module>\u001b[0;34m\u001b[0m\n\u001b[1;32m      1\u001b[0m \u001b[0;31m# Import Packages\u001b[0m\u001b[0;34m\u001b[0m\u001b[0;34m\u001b[0m\u001b[0;34m\u001b[0m\u001b[0m\n\u001b[0;32m----> 2\u001b[0;31m \u001b[0;32mimport\u001b[0m \u001b[0msrc\u001b[0m\u001b[0;34m.\u001b[0m\u001b[0mdtm\u001b[0m\u001b[0;34m.\u001b[0m\u001b[0mnodes\u001b[0m\u001b[0;34m.\u001b[0m\u001b[0mscraping\u001b[0m \u001b[0;32mas\u001b[0m \u001b[0msh\u001b[0m\u001b[0;34m\u001b[0m\u001b[0;34m\u001b[0m\u001b[0m\n\u001b[0m\u001b[1;32m      3\u001b[0m \u001b[0;32mimport\u001b[0m \u001b[0mpandas\u001b[0m \u001b[0;32mas\u001b[0m \u001b[0mpd\u001b[0m\u001b[0;34m\u001b[0m\u001b[0;34m\u001b[0m\u001b[0m\n",
      "\u001b[0;32m~/Documents/GitHub/pharma_dtm/src/dtm/nodes/scraping.py\u001b[0m in \u001b[0;36m<module>\u001b[0;34m\u001b[0m\n\u001b[0;32m----> 1\u001b[0;31m \u001b[0;32mfrom\u001b[0m \u001b[0mpyquery\u001b[0m \u001b[0;32mimport\u001b[0m \u001b[0mPyQuery\u001b[0m\u001b[0;34m\u001b[0m\u001b[0;34m\u001b[0m\u001b[0m\n\u001b[0m\u001b[1;32m      2\u001b[0m \u001b[0;32mimport\u001b[0m \u001b[0murllib\u001b[0m\u001b[0;34m\u001b[0m\u001b[0;34m\u001b[0m\u001b[0m\n\u001b[1;32m      3\u001b[0m \u001b[0;32mimport\u001b[0m \u001b[0mlxml\u001b[0m\u001b[0;34m.\u001b[0m\u001b[0mhtml\u001b[0m \u001b[0;32mas\u001b[0m \u001b[0mhtml\u001b[0m\u001b[0;34m\u001b[0m\u001b[0;34m\u001b[0m\u001b[0m\n\u001b[1;32m      4\u001b[0m \u001b[0;32mimport\u001b[0m \u001b[0mpandas\u001b[0m \u001b[0;32mas\u001b[0m \u001b[0mpd\u001b[0m\u001b[0;34m\u001b[0m\u001b[0;34m\u001b[0m\u001b[0m\n\u001b[1;32m      5\u001b[0m \u001b[0;32mimport\u001b[0m \u001b[0mnumpy\u001b[0m \u001b[0;32mas\u001b[0m \u001b[0mnp\u001b[0m\u001b[0;34m\u001b[0m\u001b[0;34m\u001b[0m\u001b[0m\n",
      "\u001b[0;31mModuleNotFoundError\u001b[0m: No module named 'pyquery'"
     ]
    }
   ],
   "source": [
    "# Import Packages\n",
    "import src.dtm.nodes.scraping as sh\n",
    "import pandas as pd"
   ]
  },
  {
   "cell_type": "markdown",
   "metadata": {
    "pycharm": {
     "name": "#%% md\n"
    }
   },
   "source": [
    "# Check if we get what we need for a couple of different articles from different journals from Springer Publisher\n",
    "paths = ['https://link.springer.com/article/10.1186/2008-2231-20-101',\n",
    "        'https://link.springer.com/article/10.1007/s12247-019-09426-z',\n",
    "        'https://link.springer.com/article/10.1186/s43094-019-0016-7']\n",
    "\n",
    "for path in paths:\n",
    "    title, tip, date, abstract, abbreviations, funding, keywords, status = sh.extract_data(path)\n",
    "    print('Title  :  ', title, '\\n')\n",
    "    print('Abstract  :  \\n', abstract, '\\n')"
   ]
  },
  {
   "cell_type": "code",
   "execution_count": null,
   "metadata": {
    "pycharm": {
     "name": "#%%\n"
    }
   },
   "outputs": [],
   "source": [
    "journals = {'DARU Journal of Pharmaceutical Sciences': {'ISSN': '2008-2231',\n",
    "                                                        'journal_code':40199,\n",
    "                                                        'year_start':2012,\n",
    "                                                        'volume_start': 20,\n",
    "                                                        'volume_end': 27,\n",
    "                                                        'maximum_issues_year':2},\n",
    "           'Journal of Pharmaceutical Innovation': {'ISSN': '1939-8042',\n",
    "                                                    'journal_code':12247,\n",
    "                                                        'year_start':2006,\n",
    "                                                        'volume_start': 1,\n",
    "                                                        'volume_end': 14,\n",
    "                                                        'maximum_issues_year':4},\n",
    "            'Future Journal of Pharmaceutical Sciences': {'ISSN': '2314-7253',\n",
    "                                                    'journal_code':43094,\n",
    "                                                        'year_start':2019,\n",
    "                                                        'volume_start': 1,\n",
    "                                                        'volume_end': 2,\n",
    "                                                        'maximum_issues_year':4},\n",
    "            'Pharmaceutical Medicine': {'ISSN': '1179-1993',\n",
    "                                                    'journal_code':43094,\n",
    "                                                        'year_start':2000,\n",
    "                                                        'volume_start': 14,\n",
    "                                                        'volume_end': 33,\n",
    "                                                        'maximum_issues_year':6},\n",
    "            'Pharmaceutical Research': {'ISSN': '1573-904X',\n",
    "                                                    'journal_code':11095,\n",
    "                                                        'year_start':1984,\n",
    "                                                        'volume_start': 1,\n",
    "                                                        'volume_end': 37,\n",
    "                                                        'maximum_issues_year':12}\n",
    "           }"
   ]
  },
  {
   "cell_type": "code",
   "execution_count": null,
   "metadata": {
    "pycharm": {
     "name": "#%%\n"
    }
   },
   "outputs": [],
   "source": [
    "unparsed"
   ]
  }
 ],
 "metadata": {
  "kernelspec": {
   "display_name": "Python 3",
   "language": "python",
   "name": "python3"
  },
  "language_info": {
   "codemirror_mode": {
    "name": "ipython",
    "version": 3
   },
   "file_extension": ".py",
   "mimetype": "text/x-python",
   "name": "python",
   "nbconvert_exporter": "python",
   "pygments_lexer": "ipython3",
   "version": "3.7.4"
  },
  "pycharm": {
   "stem_cell": {
    "cell_type": "raw",
    "source": [],
    "metadata": {
     "collapsed": false
    }
   }
  }
 },
 "nbformat": 4,
 "nbformat_minor": 1
}
